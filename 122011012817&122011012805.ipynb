{
 "cells": [
  {
   "cell_type": "code",
   "execution_count": 1,
   "id": "d04fd520",
   "metadata": {},
   "outputs": [],
   "source": [
    "NAME={1:'KHATHIJA',2:'KEERTHANA',3:'KAMALI',4:'AFRA'}"
   ]
  },
  {
   "cell_type": "code",
   "execution_count": 2,
   "id": "2811c2e8",
   "metadata": {},
   "outputs": [
    {
     "data": {
      "text/plain": [
       "dict"
      ]
     },
     "execution_count": 2,
     "metadata": {},
     "output_type": "execute_result"
    }
   ],
   "source": [
    "type(NAME)"
   ]
  },
  {
   "cell_type": "code",
   "execution_count": 3,
   "id": "553b449b",
   "metadata": {},
   "outputs": [
    {
     "data": {
      "text/plain": [
       "dict_values(['KHATHIJA', 'KEERTHANA', 'KAMALI', 'AFRA'])"
      ]
     },
     "execution_count": 3,
     "metadata": {},
     "output_type": "execute_result"
    }
   ],
   "source": [
    "NAME.values()"
   ]
  },
  {
   "cell_type": "code",
   "execution_count": 4,
   "id": "b98c5dff",
   "metadata": {},
   "outputs": [
    {
     "data": {
      "text/plain": [
       "dict_keys([1, 2, 3, 4])"
      ]
     },
     "execution_count": 4,
     "metadata": {},
     "output_type": "execute_result"
    }
   ],
   "source": [
    "NAME.keys()"
   ]
  },
  {
   "cell_type": "code",
   "execution_count": 5,
   "id": "e529edca",
   "metadata": {},
   "outputs": [
    {
     "data": {
      "text/plain": [
       "'KEERTHANA'"
      ]
     },
     "execution_count": 5,
     "metadata": {},
     "output_type": "execute_result"
    }
   ],
   "source": [
    "NAME[2]"
   ]
  },
  {
   "cell_type": "code",
   "execution_count": 6,
   "id": "df7ded81",
   "metadata": {},
   "outputs": [],
   "source": [
    "NAME[1]=\"PREVEENA\""
   ]
  },
  {
   "cell_type": "code",
   "execution_count": 7,
   "id": "c60d0efa",
   "metadata": {},
   "outputs": [
    {
     "data": {
      "text/plain": [
       "{1: 'PREVEENA', 2: 'KEERTHANA', 3: 'KAMALI', 4: 'AFRA'}"
      ]
     },
     "execution_count": 7,
     "metadata": {},
     "output_type": "execute_result"
    }
   ],
   "source": [
    "NAME"
   ]
  },
  {
   "cell_type": "code",
   "execution_count": 8,
   "id": "bcc50a16",
   "metadata": {},
   "outputs": [],
   "source": [
    "DETAIL={\"NAME\":\"JUNGKOOK\",\"AGE\":24,'BG':'A+VE'}"
   ]
  },
  {
   "cell_type": "code",
   "execution_count": 9,
   "id": "01f07c22",
   "metadata": {},
   "outputs": [
    {
     "data": {
      "text/plain": [
       "'JUNGKOOK'"
      ]
     },
     "execution_count": 9,
     "metadata": {},
     "output_type": "execute_result"
    }
   ],
   "source": [
    "DETAIL[\"NAME\"]"
   ]
  },
  {
   "cell_type": "code",
   "execution_count": 10,
   "id": "8091dfc8",
   "metadata": {},
   "outputs": [
    {
     "data": {
      "text/plain": [
       "3"
      ]
     },
     "execution_count": 10,
     "metadata": {},
     "output_type": "execute_result"
    }
   ],
   "source": [
    "len(DETAIL)"
   ]
  },
  {
   "cell_type": "code",
   "execution_count": 11,
   "id": "bc718c3d",
   "metadata": {},
   "outputs": [
    {
     "data": {
      "text/plain": [
       "'JUNGKOOK'"
      ]
     },
     "execution_count": 11,
     "metadata": {},
     "output_type": "execute_result"
    }
   ],
   "source": [
    "DETAIL.pop('NAME')"
   ]
  },
  {
   "cell_type": "code",
   "execution_count": 12,
   "id": "66c3d01e",
   "metadata": {},
   "outputs": [
    {
     "data": {
      "text/plain": [
       "{'AGE': 24, 'BG': 'A+VE'}"
      ]
     },
     "execution_count": 12,
     "metadata": {},
     "output_type": "execute_result"
    }
   ],
   "source": [
    "DETAIL"
   ]
  },
  {
   "cell_type": "code",
   "execution_count": 13,
   "id": "4c89100f",
   "metadata": {},
   "outputs": [],
   "source": [
    "DETAIL2={\"KEERTHANA:18\",\"KHATHIJA:18\",\"KAMALI:20\"}"
   ]
  },
  {
   "cell_type": "code",
   "execution_count": 14,
   "id": "f3f217f6",
   "metadata": {},
   "outputs": [
    {
     "data": {
      "text/plain": [
       "set"
      ]
     },
     "execution_count": 14,
     "metadata": {},
     "output_type": "execute_result"
    }
   ],
   "source": [
    "type(DETAIL2)"
   ]
  },
  {
   "cell_type": "code",
   "execution_count": 15,
   "id": "5e40232a",
   "metadata": {},
   "outputs": [
    {
     "data": {
      "text/plain": [
       "{'KAMALI:20', 'KEERTHANA:18', 'KHATHIJA:18'}"
      ]
     },
     "execution_count": 15,
     "metadata": {},
     "output_type": "execute_result"
    }
   ],
   "source": [
    "DETAIL2"
   ]
  },
  {
   "cell_type": "code",
   "execution_count": 16,
   "id": "f3cd44fe",
   "metadata": {},
   "outputs": [],
   "source": [
    "DETAIL2.add(\"divya\")"
   ]
  },
  {
   "cell_type": "code",
   "execution_count": 17,
   "id": "1c64e762",
   "metadata": {},
   "outputs": [
    {
     "data": {
      "text/plain": [
       "{'KAMALI:20', 'KEERTHANA:18', 'KHATHIJA:18', 'divya'}"
      ]
     },
     "execution_count": 17,
     "metadata": {},
     "output_type": "execute_result"
    }
   ],
   "source": [
    "DETAIL2"
   ]
  },
  {
   "cell_type": "code",
   "execution_count": 18,
   "id": "4f5f4c64",
   "metadata": {},
   "outputs": [],
   "source": [
    "DETAIL2.update({\"divya\",\"afreen\"})"
   ]
  },
  {
   "cell_type": "code",
   "execution_count": 19,
   "id": "6e52d85b",
   "metadata": {},
   "outputs": [
    {
     "data": {
      "text/plain": [
       "{'KAMALI:20', 'KEERTHANA:18', 'KHATHIJA:18', 'afreen', 'divya'}"
      ]
     },
     "execution_count": 19,
     "metadata": {},
     "output_type": "execute_result"
    }
   ],
   "source": [
    "DETAIL2"
   ]
  },
  {
   "cell_type": "code",
   "execution_count": 20,
   "id": "c7826fb6",
   "metadata": {},
   "outputs": [],
   "source": [
    "DETAIL3=frozenset({\"DIVYA\"})"
   ]
  },
  {
   "cell_type": "code",
   "execution_count": 21,
   "id": "c956e02e",
   "metadata": {},
   "outputs": [
    {
     "data": {
      "text/plain": [
       "frozenset"
      ]
     },
     "execution_count": 21,
     "metadata": {},
     "output_type": "execute_result"
    }
   ],
   "source": [
    "type(DETAIL3)"
   ]
  },
  {
   "cell_type": "code",
   "execution_count": 23,
   "id": "e1d01f9e",
   "metadata": {},
   "outputs": [
    {
     "data": {
      "text/plain": [
       "False"
      ]
     },
     "execution_count": 23,
     "metadata": {},
     "output_type": "execute_result"
    }
   ],
   "source": [
    "a=40\n",
    "b=10\n",
    "a<b"
   ]
  },
  {
   "cell_type": "code",
   "execution_count": null,
   "id": "d4e20ff7",
   "metadata": {},
   "outputs": [],
   "source": []
  }
 ],
 "metadata": {
  "kernelspec": {
   "display_name": "Python 3 (ipykernel)",
   "language": "python",
   "name": "python3"
  },
  "language_info": {
   "codemirror_mode": {
    "name": "ipython",
    "version": 3
   },
   "file_extension": ".py",
   "mimetype": "text/x-python",
   "name": "python",
   "nbconvert_exporter": "python",
   "pygments_lexer": "ipython3",
   "version": "3.9.17"
  }
 },
 "nbformat": 4,
 "nbformat_minor": 5
}
